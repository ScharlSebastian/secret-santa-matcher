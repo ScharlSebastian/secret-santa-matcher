{
 "cells": [
  {
   "cell_type": "code",
   "execution_count": 1,
   "metadata": {},
   "outputs": [],
   "source": [
    "import random\n",
    "\n",
    "def print_results():\n",
    "    shuffle_list_1 = [\"Julia\", \"Antonia\", \"Isi\", \"Maternus\", \"Beni\", \"Gerrit\", \"Paula\"]\n",
    "    shuffle_list_2 = shuffle_list_1[::-1]\n",
    "    \n",
    "    for i in range(0, len(shuffle_list_1)):\n",
    "\n",
    "        if len(shuffle_list_1) == 1:\n",
    "            first_pick = shuffle_list_1[0]\n",
    "            second_pick = shuffle_list_2[0]\n",
    "        else:\n",
    "            random_index_1 = random.randrange(0, len(shuffle_list_1), 1)\n",
    "            first_pick = shuffle_list_1[random_index_1]\n",
    "\n",
    "            random_index_2 = random.randrange(0, len(shuffle_list_2), 1)\n",
    "            second_pick = shuffle_list_2[random_index_2]\n",
    "\n",
    "            while first_pick == second_pick:\n",
    "                random_index_2 = random.randrange(0, len(shuffle_list_2), 1)\n",
    "                second_pick = shuffle_list_2[random_index_2]\n",
    "\n",
    "            shuffle_list_1.remove(first_pick)\n",
    "            shuffle_list_2.remove(second_pick)\n",
    "\n",
    "        print(first_pick + \" wichtelt \" + second_pick)\n",
    "    "
   ]
  },
  {
   "cell_type": "code",
   "execution_count": 2,
   "metadata": {},
   "outputs": [
    {
     "name": "stdout",
     "output_type": "stream",
     "text": [
      "Antonia wichtelt Paula\n",
      "Gerrit wichtelt Julia\n",
      "Isi wichtelt Beni\n",
      "Beni wichtelt Isi\n",
      "Paula wichtelt Gerrit\n",
      "Julia wichtelt Maternus\n",
      "Maternus wichtelt Antonia\n"
     ]
    }
   ],
   "source": [
    "print_results()"
   ]
  },
  {
   "cell_type": "code",
   "execution_count": null,
   "metadata": {},
   "outputs": [],
   "source": []
  }
 ],
 "metadata": {
  "kernelspec": {
   "display_name": "Python 3",
   "language": "python",
   "name": "python3"
  },
  "language_info": {
   "codemirror_mode": {
    "name": "ipython",
    "version": 3
   },
   "file_extension": ".py",
   "mimetype": "text/x-python",
   "name": "python",
   "nbconvert_exporter": "python",
   "pygments_lexer": "ipython3",
   "version": "3.6.6"
  }
 },
 "nbformat": 4,
 "nbformat_minor": 4
}
